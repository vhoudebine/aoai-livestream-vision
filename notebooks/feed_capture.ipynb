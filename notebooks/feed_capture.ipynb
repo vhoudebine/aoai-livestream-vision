{
 "cells": [
  {
   "cell_type": "code",
   "execution_count": 4,
   "metadata": {},
   "outputs": [],
   "source": [
    "from selenium import webdriver\n",
    "from selenium.webdriver.common.desired_capabilities import DesiredCapabilities\n",
    "from selenium.webdriver.common.by import By\n",
    "caps = DesiredCapabilities.CHROME\n",
    "\n",
    "driver = webdriver.Chrome()\n",
    "driver.get('https://livestream.com/accounts/888332/events/931293/player?width=640&height=360&enableInfoAndActivity=true&defaultDrawer=&autoPlay=true&mute=false')\n",
    "\n",
    "driver.find_element(By.TAG_NAME, \"body\").click()"
   ]
  },
  {
   "cell_type": "code",
   "execution_count": 7,
   "metadata": {
    "vscode": {
     "languageId": "shellscript"
    }
   },
   "outputs": [],
   "source": [
    "from azure.storage.blob import BlobServiceClient\n",
    "import time\n",
    "from dotenv import load_dotenv\n",
    "import os\n",
    "\n",
    "load_dotenv('azure.env')\n",
    "\n",
    "# Set the interval in seconds\n",
    "interval = 2\n",
    "\n",
    "# Set the number of screenshots to capture\n",
    "num_screenshots = 10\n",
    "\n",
    "# Create a connection to the Azure Blob Storage\n",
    "connection_string = os.getenv('AZURE_STORAGE_CONNECTION_STRING')\n",
    "blob_service_client = BlobServiceClient.from_connection_string(connection_string)\n",
    "container_name = \"livestream-frames\"\n",
    "container_client = blob_service_client.get_container_client(container_name)\n",
    "\n",
    "# Capture and save the screenshots\n",
    "for i in range(num_screenshots):\n",
    "    # Generate the screenshot file name\n",
    "    now = time.strftime('%Y%m%d%H%M%S')\n",
    "    screenshot_file = f\"screenshot_{now}.png\"\n",
    "    screenshot_file_path = os.path.join(\"image\", screenshot_file)\n",
    "    \n",
    "    # Take the screenshot\n",
    "    driver.save_screenshot(screenshot_file_path)\n",
    "    \n",
    "    # Upload the screenshot file to Azure Blob Storage\n",
    "    with open(screenshot_file_path, \"rb\") as data:\n",
    "        container_client.upload_blob(name=screenshot_file, data=data)\n",
    "    \n",
    "    # Wait for the specified interval\n",
    "    time.sleep(interval)"
   ]
  },
  {
   "cell_type": "code",
   "execution_count": null,
   "metadata": {
    "vscode": {
     "languageId": "shellscript"
    }
   },
   "outputs": [],
   "source": []
  }
 ],
 "metadata": {
  "kernelspec": {
   "display_name": "python310",
   "language": "python",
   "name": "python3"
  },
  "language_info": {
   "codemirror_mode": {
    "name": "ipython",
    "version": 3
   },
   "file_extension": ".py",
   "mimetype": "text/x-python",
   "name": "python",
   "nbconvert_exporter": "python",
   "pygments_lexer": "ipython3",
   "version": "3.10.13"
  }
 },
 "nbformat": 4,
 "nbformat_minor": 2
}
